{
 "cells": [
  {
   "cell_type": "code",
   "execution_count": 2,
   "metadata": {},
   "outputs": [],
   "source": [
    "import cv2\n",
    "import numpy as np\n",
    "from sklearn.model_selection import train_test_split\n",
    "from sklearn import metrics\n",
    "from sklearn.tree import DecisionTreeRegressor\n",
    "import os\n",
    "from sklearn.linear_model import LogisticRegression"
   ]
  },
  {
   "cell_type": "code",
   "execution_count": 3,
   "metadata": {},
   "outputs": [],
   "source": [
    "def quality_metrics(y_true, y_pred, THRESHOLD = 0.5):\n",
    "  ##### METRICS #####\n",
    "  # Area under ROC curve\n",
    "  try:\n",
    "    AUC = metrics.roc_auc_score(y_true,y_pred)\n",
    "  except Exception as e:\n",
    "    print('All values predicited one class!')\n",
    "    AUC = 0\n",
    "\n",
    "  # Discrete metrics\n",
    "  y_pred = y_pred >= THRESHOLD\n",
    "\n",
    "  TP = np.logical_and(y_pred,y_true).sum()\n",
    "  TN = np.logical_and(np.logical_not(y_pred), np.logical_not(y_true)).sum()\n",
    "  FP = np.logical_and(y_pred, np.logical_not(y_true)).sum()\n",
    "  FN = np.logical_and(np.logical_not(y_pred), y_true).sum()\n",
    "\n",
    "  # According to definition:\n",
    "  accuracy = (TP+TN)/len(y_pred)\n",
    "  sensitivity = TP/(TP+FN)\n",
    "  specificity = TN/(TN+FP)\n",
    "  #accuracy = (sensitivity+specificity)/2\n",
    "\n",
    "  return AUC, accuracy, sensitivity, specificity\n"
   ]
  },
  {
   "cell_type": "code",
   "execution_count": 4,
   "metadata": {},
   "outputs": [],
   "source": [
    "def extrapolate_kmeans (img):\n",
    "    # For some reason (methinks jpg compression) the values are not just 3 but an interpolation. Back to three values:\n",
    "    # hi_th = np.unique(img)[1:][np.diff(np.unique(img)) != 1]\n",
    "    unique, counts = np.unique(img, return_counts = True)\n",
    "    hi_th = unique[np.argpartition(counts, -3)[-3:]]\n",
    "    img[img <= hi_th[2]] = 0\n",
    "    #img[np.logical_and(img > hi_th[0], img < hi_th[1])] = hi_th[0] \n",
    "    img[np.logical_and(img > hi_th[2], img <= hi_th[1])] = 1\n",
    "    #img[img >= hi_th[1]] = hi_th[1]\n",
    "    img[img > hi_th[1]] = 2\n",
    "    return img"
   ]
  },
  {
   "cell_type": "code",
   "execution_count": 3,
   "metadata": {},
   "outputs": [
    {
     "ename": "NameError",
     "evalue": "name 'opt' is not defined",
     "output_type": "error",
     "traceback": [
      "\u001b[0;31m---------------------------------------------------------------------------\u001b[0m",
      "\u001b[0;31mNameError\u001b[0m                                 Traceback (most recent call last)",
      "Cell \u001b[0;32mIn[3], line 2\u001b[0m\n\u001b[1;32m      1\u001b[0m path \u001b[38;5;241m=\u001b[39m \u001b[38;5;124m\"\u001b[39m\u001b[38;5;124m/home/maiki/Downloads/pi/f4.jpg\u001b[39m\u001b[38;5;124m\"\u001b[39m\n\u001b[0;32m----> 2\u001b[0m pì \u001b[38;5;241m=\u001b[39m cv2\u001b[38;5;241m.\u001b[39mresize(cv2\u001b[38;5;241m.\u001b[39mimread(path, \u001b[43mopt\u001b[49m), (\u001b[38;5;241m256\u001b[39m,\u001b[38;5;241m256\u001b[39m))\n\u001b[1;32m      4\u001b[0m path \u001b[38;5;241m=\u001b[39m \u001b[38;5;124m\"\u001b[39m\u001b[38;5;124m/home/maiki/Downloads/imgs/f4.jpg\u001b[39m\u001b[38;5;124m\"\u001b[39m\n\u001b[1;32m      5\u001b[0m img \u001b[38;5;241m=\u001b[39m cv2\u001b[38;5;241m.\u001b[39mresize(cv2\u001b[38;5;241m.\u001b[39mimread(path, opt), (\u001b[38;5;241m256\u001b[39m,\u001b[38;5;241m256\u001b[39m))\n",
      "\u001b[0;31mNameError\u001b[0m: name 'opt' is not defined"
     ]
    }
   ],
   "source": [
    "path = \"/home/maiki/Downloads/pi_mask_3/h10.jpg\"\n",
    "img = cv2.resize(cv2.imread(path, opt), (256,256))\n",
    "img_fix = extrapolate_kmeans(img)\n",
    "\n",
    "#unique[np.argmax[counts]]\n",
    "#print(np.unique(img)[1:][np.diff(np.unique(img)) != 1])"
   ]
  },
  {
   "cell_type": "code",
   "execution_count": 60,
   "metadata": {},
   "outputs": [
    {
     "data": {
      "text/plain": [
       "(array([  0, 127, 254], dtype=uint8), array([26182, 21577, 17777]))"
      ]
     },
     "execution_count": 60,
     "metadata": {},
     "output_type": "execute_result"
    }
   ],
   "source": [
    "#imshow(img_fix*127)\n",
    "\n",
    "np.unique(img_fix*127, return_counts = True)"
   ]
  },
  {
   "cell_type": "code",
   "execution_count": 6,
   "metadata": {},
   "outputs": [
    {
     "name": "stdout",
     "output_type": "stream",
     "text": [
      "c5.jpg...\n",
      "g8.jpg...\n",
      "e4.jpg...\n",
      "b1.jpg...\n",
      "d1.jpg...\n",
      "d6.jpg...\n",
      "g2.jpg...\n",
      "e9.jpg...\n",
      "a9.jpg...\n",
      "h1.jpg...\n",
      "b5.jpg...\n",
      "h10.jpg...\n",
      "g4.jpg...\n",
      "e1.jpg...\n",
      "b6.jpg...\n",
      "h5.jpg...\n",
      "h2.jpg...\n",
      "d5.jpg...\n",
      "e10.jpg...\n",
      "b2.jpg...\n",
      "e6.jpg...\n",
      "c4.jpg...\n",
      "g9.jpg...\n",
      "h3.jpg...\n",
      "a7.jpg...\n",
      "d9.jpg...\n",
      "e7.jpg...\n",
      "h6.jpg...\n",
      "a6.jpg...\n",
      "b7.jpg...\n",
      "f1.jpg...\n",
      "a5.jpg...\n",
      "f9.jpg...\n",
      "g3.jpg...\n",
      "g5.jpg...\n",
      "d7.jpg...\n",
      "h9.jpg...\n",
      "h7.jpg...\n",
      "f10.jpg...\n",
      "c6.jpg...\n",
      "e2.jpg...\n",
      "c1.jpg...\n",
      "e5.jpg...\n",
      "f8.jpg...\n",
      "a8.jpg...\n",
      "d3.jpg...\n",
      "d4.jpg...\n",
      "h4.jpg...\n",
      "g1.jpg...\n",
      "b8.jpg...\n",
      "e8.jpg...\n",
      "g7.jpg...\n",
      "g6.jpg...\n",
      "f3.jpg...\n",
      "a1.jpg...\n",
      "f4.jpg...\n",
      "e3.jpg...\n",
      "c2.jpg...\n",
      "f7.jpg...\n",
      "f5.jpg...\n",
      "f6.jpg...\n",
      "d2.jpg...\n",
      "b4.jpg...\n",
      "a4.jpg...\n",
      "a2.jpg...\n",
      "b9.jpg...\n",
      "f2.jpg...\n",
      "c5.jpg...\n",
      "g8.jpg...\n",
      "e4.jpg...\n",
      "b1.jpg...\n",
      "d1.jpg...\n",
      "d6.jpg...\n",
      "g2.jpg...\n",
      "e9.jpg...\n",
      "a9.jpg...\n",
      "h1.jpg...\n",
      "b5.jpg...\n",
      "h10.jpg...\n",
      "g4.jpg...\n",
      "e1.jpg...\n",
      "b6.jpg...\n",
      "h5.jpg...\n",
      "h2.jpg...\n",
      "d5.jpg...\n",
      "e10.jpg...\n",
      "b2.jpg...\n",
      "e6.jpg...\n",
      "c4.jpg...\n",
      "g9.jpg...\n",
      "h3.jpg...\n",
      "a7.jpg...\n",
      "d9.jpg...\n",
      "e7.jpg...\n",
      "h6.jpg...\n",
      "a6.jpg...\n",
      "b7.jpg...\n",
      "f1.jpg...\n",
      "a5.jpg...\n",
      "f9.jpg...\n",
      "g3.jpg...\n",
      "g5.jpg...\n",
      "d7.jpg...\n",
      "h9.jpg...\n",
      "h7.jpg...\n",
      "f10.jpg...\n",
      "c6.jpg...\n",
      "e2.jpg...\n",
      "c1.jpg...\n",
      "e5.jpg...\n",
      "f8.jpg...\n",
      "a8.jpg...\n",
      "d3.jpg...\n",
      "d4.jpg...\n",
      "h4.jpg...\n",
      "g1.jpg...\n",
      "b8.jpg...\n",
      "e8.jpg...\n",
      "g7.jpg...\n",
      "g6.jpg...\n",
      "f3.jpg...\n",
      "a1.jpg...\n",
      "f4.jpg...\n",
      "e3.jpg...\n",
      "c2.jpg...\n",
      "f7.jpg...\n",
      "f5.jpg...\n",
      "f6.jpg...\n",
      "d2.jpg...\n",
      "b4.jpg...\n",
      "a4.jpg...\n",
      "a2.jpg...\n",
      "b9.jpg...\n",
      "f2.jpg...\n"
     ]
    }
   ],
   "source": [
    "bf_arr = []\n",
    "pi_m1_arr = []\n",
    "pi_m2_arr = []\n",
    "\n",
    "opt = cv2.IMREAD_GRAYSCALE\n",
    "\n",
    "path = \"/home/maiki/Downloads/ht29/\"\n",
    "for img in os.listdir(path+\"imgs\"):\n",
    "    print(img+\"...\")\n",
    "    bf = cv2.resize(cv2.imread(path+\"/imgs/\"+img, opt), (256,256))\n",
    "    bf = np.float32((255-bf.reshape((-1,1))))\n",
    "    bf = bf/max(bf)\n",
    "    bf_arr.append(bf)\n",
    "\n",
    "for img in os.listdir(path+\"pi_mask_3\"):\n",
    "    print(img+\"...\")\n",
    "    pi_m = cv2.resize(cv2.imread(path+\"/pi_mask_3/\"+img, opt), (256,256))\n",
    "    pi_m = extrapolate_kmeans(pi_m)\n",
    "    pi_m1 = (pi_m == 1).reshape((-1,1))\n",
    "    pi_m2 = (pi_m == 2).reshape((-1,1))\n",
    "    \n",
    "    pi_m1_arr.append(pi_m1)\n",
    "    pi_m2_arr.append(pi_m2)"
   ]
  },
  {
   "cell_type": "code",
   "execution_count": 7,
   "metadata": {},
   "outputs": [],
   "source": [
    "for i in range(len(pi_m1_arr)):\n",
    "  pi_m1_arr[i]=pi_m1_arr[i][:,0]\n",
    "  pi_m2_arr[i]=pi_m2_arr[i][:,0]"
   ]
  },
  {
   "cell_type": "code",
   "execution_count": 8,
   "metadata": {},
   "outputs": [],
   "source": [
    "def imshow(img):\n",
    "    cv2.namedWindow(\"out\", cv2.WINDOW_NORMAL)\n",
    "    cv2.imshow(\"out\",(img).astype(np.uint8))\n",
    "    cv2.waitKey(0)\n",
    "    cv2.destroyAllWindows()"
   ]
  },
  {
   "cell_type": "code",
   "execution_count": 65,
   "metadata": {},
   "outputs": [],
   "source": [
    "imshow(pi_m*127)"
   ]
  },
  {
   "cell_type": "code",
   "execution_count": 66,
   "metadata": {},
   "outputs": [
    {
     "data": {
      "text/plain": [
       "(array([  0, 127, 254], dtype=uint8), array([57582,  4386,  3568]))"
      ]
     },
     "execution_count": 66,
     "metadata": {},
     "output_type": "execute_result"
    }
   ],
   "source": [
    "np.unique(pi_m*127, return_counts=True)"
   ]
  },
  {
   "cell_type": "code",
   "execution_count": 9,
   "metadata": {},
   "outputs": [],
   "source": [
    "x1_tr, x1_tst, y1_tr, y1_tst = train_test_split(bf_arr, pi_m1_arr, test_size=0.3, random_state=23)\n",
    "x2_tr, x2_tst, y2_tr, y2_tst = train_test_split(bf_arr, pi_m2_arr, test_size=0.3, random_state=23)"
   ]
  },
  {
   "cell_type": "code",
   "execution_count": 10,
   "metadata": {},
   "outputs": [],
   "source": [
    "x1_tr = np.concatenate((x1_tr[:]))\n",
    "y1_tr = np.concatenate((y1_tr[:]))\n",
    "x1_tst = np.concatenate((x1_tst[:]))\n",
    "y1_tst = np.concatenate((y1_tst[:]))\n",
    "x2_tr = np.concatenate((x2_tr[:]))\n",
    "y2_tr = np.concatenate((y2_tr[:]))\n",
    "x2_tst = np.concatenate((x2_tst[:]))\n",
    "y2_tst = np.concatenate((y2_tst[:]))"
   ]
  },
  {
   "cell_type": "code",
   "execution_count": 11,
   "metadata": {},
   "outputs": [
    {
     "name": "stdout",
     "output_type": "stream",
     "text": [
      "(3014656, 1)\n",
      "(3014656,)\n",
      "(1376256, 1)\n",
      "(1376256,)\n",
      "(3014656, 1)\n",
      "(3014656,)\n",
      "(1376256, 1)\n",
      "(1376256,)\n"
     ]
    }
   ],
   "source": [
    "print(x1_tr.shape)\n",
    "print(y1_tr.shape)\n",
    "print(x1_tst.shape)\n",
    "print(y1_tst.shape)\n",
    "print(x2_tr.shape)\n",
    "print(y2_tr.shape)\n",
    "print(x2_tst.shape)\n",
    "print(y2_tst.shape)"
   ]
  },
  {
   "cell_type": "code",
   "execution_count": 12,
   "metadata": {},
   "outputs": [
    {
     "name": "stdout",
     "output_type": "stream",
     "text": [
      "(0.7783706075083197, 0.8780038016183036, 0.4445252657205629, 0.9526122415608042)\n",
      "(0.929126760526679, 0.9569476899646577, 0.0, 1.0)\n"
     ]
    }
   ],
   "source": [
    "lr = LogisticRegression(max_iter=1000)\n",
    "\n",
    "lr.fit(x1_tr,y1_tr)\n",
    "y1_pred = lr.predict_proba(x1_tst)[::,1]\n",
    "print(quality_metrics(y1_tst, y1_pred ))\n",
    "\n",
    "lr.fit(x2_tr,y2_tr)\n",
    "y2_pred = lr.predict_proba(x2_tst)[::,1]\n",
    "print(quality_metrics(y2_tst, y2_pred ))"
   ]
  },
  {
   "cell_type": "code",
   "execution_count": 14,
   "metadata": {},
   "outputs": [],
   "source": [
    "imshow(y1_pred[:256*256].reshape(256,256)*255)"
   ]
  },
  {
   "cell_type": "code",
   "execution_count": 15,
   "metadata": {},
   "outputs": [],
   "source": [
    "def jaccard(img0, img1): return np.logical_and(img0, img1).sum()/np.logical_or(img0, img1).sum()"
   ]
  },
  {
   "cell_type": "code",
   "execution_count": 80,
   "metadata": {},
   "outputs": [
    {
     "name": "stdout",
     "output_type": "stream",
     "text": [
      "0.5 : 0.0\n"
     ]
    }
   ],
   "source": [
    "#th = []\n",
    "#for thresh in np.arange(0.01,0.99,0.01):\n",
    "thresh = 0.5\n",
    "sim = []\n",
    "for i in range(int(len(y1_tst)/(256*256))):\n",
    "    lo = i*256*256\n",
    "    hi = (i+1)*256*256\n",
    "    pred = (y1_pred[lo:hi]>thresh).reshape(256,256)\n",
    "    tst = (y1_tst[lo:hi]).reshape(256,256)\n",
    "    try:\n",
    "        sim.append(jaccard(pred,tst))\n",
    "    except:\n",
    "        sim.append(0)\n",
    "    imshow(np.concatenate((tst, pred),axis = 1)*255)\n",
    "\n",
    "print(str(thresh)+ \" : \"+ str(np.average(sim)))\n",
    "#   th.append(np.average(sim))\n",
    "\n",
    "# print(np.argmax(th))"
   ]
  },
  {
   "cell_type": "markdown",
   "metadata": {},
   "source": [
    "# One image"
   ]
  },
  {
   "cell_type": "code",
   "execution_count": 18,
   "metadata": {},
   "outputs": [],
   "source": [
    "bf = cv2.imread(\"/home/maiki/Downloads/bf.JPG\", cv2.IMREAD_GRAYSCALE)\n",
    "pi_m_3 = cv2.imread(\"/home/maiki/Downloads/pi_m_3.JPG\", cv2.IMREAD_GRAYSCALE)\n",
    "\n",
    "\n",
    "bf_neg = 255-bf\n",
    "\n",
    "pi_m_3_fixed = extrapolate_kmeans(pi_m_3)\n",
    "\n",
    "trainingData = np.float32(bf_neg.reshape((-1,1)))\n",
    "# labels = (pi_m_3_fixed/255).reshape((-1,1))\n",
    "\n",
    "\n",
    "mask1 = pi_m_3_fixed == 1\n",
    "mask2 = pi_m_3_fixed == 2\n",
    "\n"
   ]
  },
  {
   "cell_type": "code",
   "execution_count": 27,
   "metadata": {},
   "outputs": [],
   "source": [
    "labels1 = (mask1).reshape((-1,1))\n",
    "labels2 = (mask2).reshape((-1,1))\n",
    "\n",
    "trainingData = trainingData/max(trainingData)\n",
    "\n",
    "\n",
    "x1_tr, x1_tst, y1_tr, y1_tst = train_test_split(trainingData, labels1, test_size=0.2, random_state=23)\n",
    "x2_tr, x2_tst, y2_tr, y2_tst = train_test_split(trainingData, labels2, test_size=0.2, random_state=23)\n"
   ]
  },
  {
   "cell_type": "code",
   "execution_count": 21,
   "metadata": {},
   "outputs": [
    {
     "data": {
      "text/plain": [
       "array([  0, 255])"
      ]
     },
     "execution_count": 21,
     "metadata": {},
     "output_type": "execute_result"
    }
   ],
   "source": [
    "np.unique(mask1*255)"
   ]
  },
  {
   "cell_type": "code",
   "execution_count": 67,
   "metadata": {},
   "outputs": [],
   "source": []
  },
  {
   "cell_type": "code",
   "execution_count": 29,
   "metadata": {},
   "outputs": [
    {
     "name": "stdout",
     "output_type": "stream",
     "text": [
      "(3355443, 1)\n",
      "(3355443,)\n",
      "(838861, 1)\n",
      "(838861,)\n"
     ]
    }
   ],
   "source": [
    "y2_tr = y2_tr[:,0]\n",
    "y2_tst = y2_tst[:,0]\n",
    "\n",
    "print(x2_tr.shape)\n",
    "print(y2_tr.shape)\n",
    "print(x2_tst.shape)\n",
    "print(y2_tst.shape)\n"
   ]
  },
  {
   "cell_type": "code",
   "execution_count": 7,
   "metadata": {},
   "outputs": [],
   "source": [
    "dt = DecisionTreeRegressor()\n",
    "\n",
    "dt.fit(x_tr, y_tr)\n",
    "\n",
    "y_pred = dt.predict(x_tst)"
   ]
  },
  {
   "cell_type": "code",
   "execution_count": 16,
   "metadata": {},
   "outputs": [
    {
     "name": "stdout",
     "output_type": "stream",
     "text": [
      "0.013428493422678791\n",
      "0.0016986248010660487\n",
      "0.041214376145539904\n",
      "0.9045785579856036\n"
     ]
    }
   ],
   "source": [
    "from sklearn.metrics import r2_score\n",
    "print(r2_score(y_tst, y_pred))"
   ]
  },
  {
   "cell_type": "code",
   "execution_count": 30,
   "metadata": {},
   "outputs": [
    {
     "name": "stdout",
     "output_type": "stream",
     "text": [
      "(0.9117480753095828, 0.9265897449041021, 0.0, 0.9973413810447654)\n",
      "(0.9972711927099481, 0.9903595470524914, 0.9388594632768361, 0.9940886271271162)\n"
     ]
    }
   ],
   "source": [
    "lr = LogisticRegression(max_iter=1000)\n",
    "\n",
    "lr.fit(x1_tr,y1_tr)\n",
    "y1_pred = lr.predict_proba(x1_tst)[::,1]\n",
    "print(quality_metrics(y1_tst, y1_pred ))\n",
    "\n",
    "lr.fit(x2_tr,y2_tr)\n",
    "y2_pred = lr.predict_proba(x2_tst)[::,1]\n",
    "print(quality_metrics(y2_tst, y2_pred ))"
   ]
  }
 ],
 "metadata": {
  "kernelspec": {
   "display_name": "base",
   "language": "python",
   "name": "python3"
  },
  "language_info": {
   "codemirror_mode": {
    "name": "ipython",
    "version": 3
   },
   "file_extension": ".py",
   "mimetype": "text/x-python",
   "name": "python",
   "nbconvert_exporter": "python",
   "pygments_lexer": "ipython3",
   "version": "3.10.10"
  }
 },
 "nbformat": 4,
 "nbformat_minor": 2
}
