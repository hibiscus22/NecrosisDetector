{
 "cells": [
  {
   "cell_type": "code",
   "execution_count": 1,
   "metadata": {},
   "outputs": [],
   "source": [
    "import cv2\n",
    "import numpy as np\n",
    "from sklearn.model_selection import train_test_split\n",
    "from sklearn import metrics\n",
    "from sklearn.tree import DecisionTreeRegressor\n",
    "from sklearn.linear_model import LinearRegression\n",
    "import os\n",
    "from sklearn.metrics import r2_score\n",
    "from sklearn import svm"
   ]
  },
  {
   "cell_type": "code",
   "execution_count": 51,
   "metadata": {},
   "outputs": [
    {
     "name": "stdout",
     "output_type": "stream",
     "text": [
      "e11_p.jpg...\n",
      "d9_p.jpg...\n",
      "d10_p.jpg...\n",
      "e8_p.jpg...\n",
      "g11_p.jpg...\n",
      "g9_p.jpg...\n",
      "g8_p.jpg...\n",
      "c9_p.jpg...\n",
      "e10_p.jpg...\n",
      "h10_p.jpg...\n",
      "g10_p.jpg...\n",
      "f9_p.jpg...\n",
      "d8_p.jpg...\n",
      "f8_p.jpg...\n",
      "h9_p.jpg...\n",
      "a10_p.jpg...\n",
      "e9_p.jpg...\n",
      "f11_p.jpg...\n",
      "a8_p.jpg...\n",
      "b11_p.jpg...\n",
      "a9_p.jpg...\n",
      "c8_p.jpg...\n",
      "c11_p.jpg...\n",
      "d11_p.jpg...\n",
      "f10_p.jpg...\n",
      "b8_p.jpg...\n",
      "h11_p.jpg...\n",
      "b9_p.jpg...\n",
      "b10_p.jpg...\n",
      "c10_p.jpg...\n",
      "h8_p.jpg...\n",
      "e11_p.jpg...\n",
      "d9_p.jpg...\n",
      "d10_p.jpg...\n",
      "e8_p.jpg...\n",
      "g11_p.jpg...\n",
      "g9_p.jpg...\n",
      "g8_p.jpg...\n",
      "c9_p.jpg...\n",
      "e10_p.jpg...\n",
      "h10_p.jpg...\n",
      "g10_p.jpg...\n",
      "f9_p.jpg...\n",
      "d8_p.jpg...\n",
      "f8_p.jpg...\n",
      "h9_p.jpg...\n",
      "a10_p.jpg...\n",
      "e9_p.jpg...\n",
      "f11_p.jpg...\n",
      "a8_p.jpg...\n",
      "b11_p.jpg...\n",
      "a9_p.jpg...\n",
      "c8_p.jpg...\n",
      "c11_p.jpg...\n",
      "d11_p.jpg...\n",
      "f10_p.jpg...\n",
      "b8_p.jpg...\n",
      "h11_p.jpg...\n",
      "b9_p.jpg...\n",
      "b10_p.jpg...\n",
      "c10_p.jpg...\n",
      "h8_p.jpg...\n"
     ]
    }
   ],
   "source": [
    "bf_arr = []\n",
    "pi_arr = []\n",
    "\n",
    "opt = cv2.IMREAD_GRAYSCALE\n",
    "\n",
    "#path = \"/home/maiki/Downloads/ht29/\"\n",
    "path = \"/home/maiki/Downloads/pancreas/\"\n",
    "#path = \"/home/maiki/Downloads/both/\"\n",
    "for img in os.listdir(path+\"imgs\"):\n",
    "    print(img+\"...\")\n",
    "    bf = cv2.resize(cv2.imread(path+\"/imgs/\"+img, opt), (256,256))\n",
    "    bf = np.float32((255-bf.reshape((-1,1))))\n",
    "    bf = bf/max(bf)\n",
    "    bf_arr.append(bf)\n",
    "\n",
    "for img in os.listdir(path+\"pi\"):\n",
    "    print(img+\"...\")\n",
    "    pi = cv2.resize(cv2.imread(path+\"/pi/\"+img, opt), (256,256))\n",
    "    pi = np.float32((pi.reshape((-1,1))))\n",
    "    pi = pi/max(pi)\n",
    "    pi_arr.append(pi)"
   ]
  },
  {
   "cell_type": "code",
   "execution_count": 54,
   "metadata": {},
   "outputs": [],
   "source": [
    "for i in range(len(pi_arr)):\n",
    "  pi_arr[i]=pi_arr[i][:,0]\n",
    "  "
   ]
  },
  {
   "cell_type": "code",
   "execution_count": 4,
   "metadata": {},
   "outputs": [],
   "source": [
    "def imshow(img):\n",
    "    cv2.namedWindow(\"out\", cv2.WINDOW_NORMAL)\n",
    "    cv2.imshow(\"out\",(img).astype(np.uint8))\n",
    "    cv2.waitKey(0)\n",
    "    cv2.destroyAllWindows()"
   ]
  },
  {
   "cell_type": "code",
   "execution_count": 11,
   "metadata": {},
   "outputs": [],
   "source": [
    "imshow(pi.reshape((256,256))*255)"
   ]
  },
  {
   "cell_type": "code",
   "execution_count": 66,
   "metadata": {},
   "outputs": [
    {
     "data": {
      "text/plain": [
       "(array([  0, 127, 254], dtype=uint8), array([57582,  4386,  3568]))"
      ]
     },
     "execution_count": 66,
     "metadata": {},
     "output_type": "execute_result"
    }
   ],
   "source": [
    "np.unique(pi_m*127, return_counts=True)"
   ]
  },
  {
   "cell_type": "code",
   "execution_count": 55,
   "metadata": {},
   "outputs": [],
   "source": [
    "x1_tr, x1_tst, y1_tr, y1_tst = train_test_split(bf_arr, pi_arr, test_size=0.3, random_state=23)"
   ]
  },
  {
   "cell_type": "code",
   "execution_count": 56,
   "metadata": {},
   "outputs": [],
   "source": [
    "x1_tr = np.concatenate((x1_tr[:]))\n",
    "y1_tr = np.concatenate((y1_tr[:]))\n",
    "x1_tst = np.concatenate((x1_tst[:]))\n",
    "y1_tst = np.concatenate((y1_tst[:]))"
   ]
  },
  {
   "cell_type": "code",
   "execution_count": 57,
   "metadata": {},
   "outputs": [
    {
     "name": "stdout",
     "output_type": "stream",
     "text": [
      "(1376256, 1)\n",
      "(1376256,)\n",
      "(655360, 1)\n",
      "(655360,)\n"
     ]
    }
   ],
   "source": [
    "print(x1_tr.shape)\n",
    "print(y1_tr.shape)\n",
    "print(x1_tst.shape)\n",
    "print(y1_tst.shape)"
   ]
  },
  {
   "cell_type": "code",
   "execution_count": 58,
   "metadata": {},
   "outputs": [],
   "source": [
    "dt = DecisionTreeRegressor()\n",
    "\n",
    "dt.fit(x1_tr, y1_tr)\n",
    "\n",
    "y_pred = dt.predict(x1_tst)"
   ]
  },
  {
   "cell_type": "code",
   "execution_count": 8,
   "metadata": {},
   "outputs": [],
   "source": [
    "lr = LinearRegression()\n",
    "lr.fit(x1_tr, y1_tr)\n",
    "\n",
    "y_pred = lr.predict(x1_tst)"
   ]
  },
  {
   "cell_type": "code",
   "execution_count": 10,
   "metadata": {},
   "outputs": [],
   "source": [
    "imshow(y_pred[:256*256].reshape(256,256)*255)"
   ]
  },
  {
   "cell_type": "code",
   "execution_count": 59,
   "metadata": {},
   "outputs": [
    {
     "name": "stdout",
     "output_type": "stream",
     "text": [
      "0.23724203192380977\n"
     ]
    }
   ],
   "source": [
    "print(r2_score(y1_tst, y_pred))"
   ]
  },
  {
   "cell_type": "code",
   "execution_count": 60,
   "metadata": {},
   "outputs": [
    {
     "name": "stdout",
     "output_type": "stream",
     "text": [
      "0.5702821\n",
      "0.6057386\n",
      "0.48877698\n",
      "0.5266863\n",
      "0.7774107\n",
      "0.69927067\n",
      "0.6017612\n",
      "0.5175689\n",
      "0.394986\n",
      "0.6876749\n",
      "average: 0.5870157\n"
     ]
    }
   ],
   "source": [
    "#th = []\n",
    "#for thresh in np.arange(0.01,0.99,0.01):\n",
    "sim = []\n",
    "for i in range(int(len(y1_tst)/(256*256))):\n",
    "    lo = i*256*256\n",
    "    hi = (i+1)*256*256\n",
    "    pred = (y_pred[lo:hi]).reshape(256,256)*255\n",
    "    tst = (y1_tst[lo:hi]).reshape(256,256)*255\n",
    "    try:\n",
    "        sim.append(cv2.matchTemplate(pred.astype(np.uint8), tst.astype(np.uint8), method = cv2.TM_CCOEFF_NORMED)[0][0])\n",
    "    except:\n",
    "        sim.append(0)\n",
    "    imshow(np.concatenate((tst, pred),axis = 1))\n",
    "    print(sim[len(sim)-1])\n",
    "\n",
    "\n",
    "print(\"average: \"+str(np.average(sim)))\n",
    "#   th.append(np.average(sim))\n",
    "\n",
    "# print(np.argmax(th))"
   ]
  },
  {
   "cell_type": "code",
   "execution_count": 23,
   "metadata": {},
   "outputs": [],
   "source": [
    "img_t = y1_tst[:256*256].reshape(256,256)*255\n",
    "img_p = y_pred[:256*256].reshape(256,256)*255"
   ]
  },
  {
   "cell_type": "code",
   "execution_count": 24,
   "metadata": {},
   "outputs": [],
   "source": [
    "imshow(np.concatenate((img_t,img_p), axis = 1))"
   ]
  },
  {
   "cell_type": "code",
   "execution_count": 26,
   "metadata": {},
   "outputs": [
    {
     "data": {
      "text/plain": [
       "array([[0.94965047]], dtype=float32)"
      ]
     },
     "execution_count": 26,
     "metadata": {},
     "output_type": "execute_result"
    }
   ],
   "source": [
    "cv2.matchTemplate(img_t.astype(np.uint8), img_p.astype(np.uint8), method=cv2.TM_CCOEFF_NORMED)"
   ]
  },
  {
   "cell_type": "code",
   "execution_count": 41,
   "metadata": {},
   "outputs": [
    {
     "data": {
      "text/plain": [
       "True"
      ]
     },
     "execution_count": 41,
     "metadata": {},
     "output_type": "execute_result"
    }
   ],
   "source": [
    "pred = (f4_pred).reshape(256,256)*255\n",
    "cv2.imwrite(path+\"f4_pred.jpg\", pred)"
   ]
  },
  {
   "cell_type": "code",
   "execution_count": 37,
   "metadata": {},
   "outputs": [],
   "source": [
    "f4_pred = dt.predict(bf_arr[55])"
   ]
  },
  {
   "cell_type": "code",
   "execution_count": null,
   "metadata": {},
   "outputs": [],
   "source": [
    "i = 0\n",
    "for img in os.listdir(path+\"pi\"):\n",
    "    print(img+\"...\")\n",
    "    y_pred = dt.predict(bf_arr[i]).reshape(256,256)*255\n",
    "    cv2.imwrite(path+'/results_dt_regressor/'+img, y_pred)\n",
    "    i+=1"
   ]
  },
  {
   "cell_type": "markdown",
   "metadata": {},
   "source": [
    "# One image"
   ]
  },
  {
   "cell_type": "code",
   "execution_count": 18,
   "metadata": {},
   "outputs": [],
   "source": [
    "bf = cv2.imread(\"/home/maiki/Downloads/bf.JPG\", cv2.IMREAD_GRAYSCALE)\n",
    "pi_m_3 = cv2.imread(\"/home/maiki/Downloads/pi_m_3.JPG\", cv2.IMREAD_GRAYSCALE)\n",
    "\n",
    "\n",
    "bf_neg = 255-bf\n",
    "\n",
    "pi_m_3_fixed = extrapolate_kmeans(pi_m_3)\n",
    "\n",
    "trainingData = np.float32(bf_neg.reshape((-1,1)))\n",
    "# labels = (pi_m_3_fixed/255).reshape((-1,1))\n",
    "\n",
    "\n",
    "mask1 = pi_m_3_fixed == 1\n",
    "mask2 = pi_m_3_fixed == 2\n",
    "\n"
   ]
  },
  {
   "cell_type": "code",
   "execution_count": 27,
   "metadata": {},
   "outputs": [],
   "source": [
    "labels1 = (mask1).reshape((-1,1))\n",
    "labels2 = (mask2).reshape((-1,1))\n",
    "\n",
    "trainingData = trainingData/max(trainingData)\n",
    "\n",
    "\n",
    "x1_tr, x1_tst, y1_tr, y1_tst = train_test_split(trainingData, labels1, test_size=0.2, random_state=23)\n",
    "x2_tr, x2_tst, y2_tr, y2_tst = train_test_split(trainingData, labels2, test_size=0.2, random_state=23)\n"
   ]
  },
  {
   "cell_type": "code",
   "execution_count": 21,
   "metadata": {},
   "outputs": [
    {
     "data": {
      "text/plain": [
       "array([  0, 255])"
      ]
     },
     "execution_count": 21,
     "metadata": {},
     "output_type": "execute_result"
    }
   ],
   "source": [
    "np.unique(mask1*255)"
   ]
  },
  {
   "cell_type": "code",
   "execution_count": 67,
   "metadata": {},
   "outputs": [],
   "source": []
  },
  {
   "cell_type": "code",
   "execution_count": 29,
   "metadata": {},
   "outputs": [
    {
     "name": "stdout",
     "output_type": "stream",
     "text": [
      "(3355443, 1)\n",
      "(3355443,)\n",
      "(838861, 1)\n",
      "(838861,)\n"
     ]
    }
   ],
   "source": [
    "y2_tr = y2_tr[:,0]\n",
    "y2_tst = y2_tst[:,0]\n",
    "\n",
    "print(x2_tr.shape)\n",
    "print(y2_tr.shape)\n",
    "print(x2_tst.shape)\n",
    "print(y2_tst.shape)\n"
   ]
  },
  {
   "cell_type": "code",
   "execution_count": 7,
   "metadata": {},
   "outputs": [],
   "source": [
    "dt = DecisionTreeRegressor()\n",
    "\n",
    "dt.fit(x_tr, y_tr)\n",
    "\n",
    "y_pred = dt.predict(x_tst)"
   ]
  },
  {
   "cell_type": "code",
   "execution_count": 16,
   "metadata": {},
   "outputs": [
    {
     "name": "stdout",
     "output_type": "stream",
     "text": [
      "0.013428493422678791\n",
      "0.0016986248010660487\n",
      "0.041214376145539904\n",
      "0.9045785579856036\n"
     ]
    }
   ],
   "source": [
    "from sklearn.metrics import r2_score\n",
    "print(r2_score(y_tst, y_pred))"
   ]
  },
  {
   "cell_type": "code",
   "execution_count": 30,
   "metadata": {},
   "outputs": [
    {
     "name": "stdout",
     "output_type": "stream",
     "text": [
      "(0.9117480753095828, 0.9265897449041021, 0.0, 0.9973413810447654)\n",
      "(0.9972711927099481, 0.9903595470524914, 0.9388594632768361, 0.9940886271271162)\n"
     ]
    }
   ],
   "source": [
    "lr = LogisticRegression(max_iter=1000)\n",
    "\n",
    "lr.fit(x1_tr,y1_tr)\n",
    "y1_pred = lr.predict_proba(x1_tst)[::,1]\n",
    "print(quality_metrics(y1_tst, y1_pred ))\n",
    "\n",
    "lr.fit(x2_tr,y2_tr)\n",
    "y2_pred = lr.predict_proba(x2_tst)[::,1]\n",
    "print(quality_metrics(y2_tst, y2_pred ))"
   ]
  }
 ],
 "metadata": {
  "kernelspec": {
   "display_name": "base",
   "language": "python",
   "name": "python3"
  },
  "language_info": {
   "codemirror_mode": {
    "name": "ipython",
    "version": 3
   },
   "file_extension": ".py",
   "mimetype": "text/x-python",
   "name": "python",
   "nbconvert_exporter": "python",
   "pygments_lexer": "ipython3",
   "version": "3.10.10"
  }
 },
 "nbformat": 4,
 "nbformat_minor": 2
}
