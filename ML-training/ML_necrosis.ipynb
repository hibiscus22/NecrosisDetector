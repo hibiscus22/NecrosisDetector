{
 "cells": [
  {
   "cell_type": "code",
   "execution_count": 2,
   "metadata": {},
   "outputs": [],
   "source": [
    "import cv2\n",
    "import numpy as np\n",
    "from sklearn.model_selection import train_test_split\n",
    "from sklearn.linear_model import LogisticRegression\n",
    "from sklearn import metrics\n",
    "from sklearn.tree import DecisionTreeClassifier\n",
    "import os\n"
   ]
  },
  {
   "cell_type": "code",
   "execution_count": 3,
   "metadata": {},
   "outputs": [],
   "source": [
    "def quality_metrics(y_true, y_pred, THRESHOLD = 0.5):\n",
    "  ##### METRICS #####\n",
    "  # Area under ROC curve\n",
    "  try:\n",
    "    AUC = metrics.roc_auc_score(y_true,y_pred)\n",
    "  except Exception as e:\n",
    "    print('All values predicited one class!')\n",
    "    AUC = 0\n",
    "\n",
    "  # Discrete metrics\n",
    "  y_pred = y_pred >= THRESHOLD\n",
    "\n",
    "  TP = np.logical_and(y_pred,y_true).sum()\n",
    "  TN = np.logical_and(np.logical_not(y_pred), np.logical_not(y_true)).sum()\n",
    "  FP = np.logical_and(y_pred, np.logical_not(y_true)).sum()\n",
    "  FN = np.logical_and(np.logical_not(y_pred), y_true).sum()\n",
    "\n",
    "  # According to definition:\n",
    "  accuracy = (TP+TN)/len(y_pred)\n",
    "  sensitivity = TP/(TP+FN)\n",
    "  specificity = TN/(TN+FP)\n",
    "  #accuracy = (sensitivity+specificity)/2\n",
    "\n",
    "  return AUC, accuracy, sensitivity, specificity\n"
   ]
  },
  {
   "cell_type": "code",
   "execution_count": 11,
   "metadata": {},
   "outputs": [
    {
     "name": "stdout",
     "output_type": "stream",
     "text": [
      "c5.jpg...\n"
     ]
    },
    {
     "name": "stdout",
     "output_type": "stream",
     "text": [
      "g8.jpg...\n",
      "e4.jpg...\n",
      "d6.jpg...\n",
      "g2.jpg...\n",
      "e9.jpg...\n",
      "a9.jpg...\n",
      "b5.jpg...\n",
      "h10.jpg...\n",
      "g4.jpg...\n",
      "b6.jpg...\n",
      "h5.jpg...\n",
      "h2.jpg...\n",
      "d5.jpg...\n",
      "e10.jpg...\n",
      "b2.jpg...\n",
      "e6.jpg...\n",
      "c4.jpg...\n",
      "g9.jpg...\n",
      "h3.jpg...\n",
      "a7.jpg...\n",
      "d9.jpg...\n",
      "e7.jpg...\n",
      "h6.jpg...\n",
      "a6.jpg...\n",
      "b7.jpg...\n",
      "a5.jpg...\n",
      "f9.jpg...\n",
      "g3.jpg...\n",
      "g5.jpg...\n",
      "d7.jpg...\n",
      "h9.jpg...\n",
      "h7.jpg...\n",
      "f10.jpg...\n",
      "c6.jpg...\n",
      "e2.jpg...\n",
      "e5.jpg...\n",
      "f8.jpg...\n",
      "a8.jpg...\n",
      "d3.jpg...\n",
      "d4.jpg...\n",
      "h4.jpg...\n",
      "b8.jpg...\n",
      "e8.jpg...\n",
      "g7.jpg...\n",
      "g6.jpg...\n",
      "f3.jpg...\n",
      "f4.jpg...\n",
      "e3.jpg...\n",
      "c2.jpg...\n",
      "f7.jpg...\n",
      "f5.jpg...\n",
      "f6.jpg...\n",
      "d2.jpg...\n",
      "b4.jpg...\n",
      "a4.jpg...\n",
      "a2.jpg...\n",
      "b9.jpg...\n",
      "f2.jpg...\n",
      "c5.jpg...\n",
      "g8.jpg...\n",
      "e4.jpg...\n",
      "d6.jpg...\n",
      "g2.jpg...\n",
      "e9.jpg...\n",
      "a9.jpg...\n",
      "b5.jpg...\n",
      "h10.jpg...\n",
      "g4.jpg...\n",
      "b6.jpg...\n",
      "h5.jpg...\n",
      "h2.jpg...\n",
      "d5.jpg...\n",
      "e10.jpg...\n",
      "b2.jpg...\n",
      "e6.jpg...\n",
      "c4.jpg...\n",
      "g9.jpg...\n",
      "h3.jpg...\n",
      "a7.jpg...\n",
      "d9.jpg...\n",
      "e7.jpg...\n",
      "h6.jpg...\n",
      "a6.jpg...\n",
      "b7.jpg...\n",
      "a5.jpg...\n",
      "f9.jpg...\n",
      "g3.jpg...\n",
      "g5.jpg...\n",
      "d7.jpg...\n",
      "h9.jpg...\n",
      "h7.jpg...\n",
      "f10.jpg...\n",
      "c6.jpg...\n",
      "e2.jpg...\n",
      "e5.jpg...\n",
      "f8.jpg...\n",
      "a8.jpg...\n",
      "d3.jpg...\n",
      "d4.jpg...\n",
      "h4.jpg...\n",
      "b8.jpg...\n",
      "e8.jpg...\n",
      "g7.jpg...\n",
      "g6.jpg...\n",
      "f3.jpg...\n",
      "f4.jpg...\n",
      "e3.jpg...\n",
      "c2.jpg...\n",
      "f7.jpg...\n",
      "f5.jpg...\n",
      "f6.jpg...\n",
      "d2.jpg...\n",
      "b4.jpg...\n",
      "a4.jpg...\n",
      "a2.jpg...\n",
      "b9.jpg...\n",
      "f2.jpg...\n"
     ]
    }
   ],
   "source": [
    "bf_arr = []\n",
    "pi_m_arr = []\n",
    "path = \"/home/maiki/Downloads/\"\n",
    "for img in os.listdir(path+\"imgs\"):\n",
    "    print(img+\"...\")\n",
    "    bf = cv2.resize(cv2.imread(path+\"/imgs/\"+img), (256,256))\n",
    "    bf = np.float32((255-bf.reshape((-1,1))))\n",
    "    bf = bf/max(bf)\n",
    "    bf_arr.append(bf)\n",
    "\n",
    "for img in os.listdir(path+\"pi_mask\"):\n",
    "    print(img+\"...\")\n",
    "    pi_m = cv2.resize(cv2.imread(path+\"/pi_mask/\"+img), (256,256))\n",
    "    pi_m = np.round(pi_m/255).reshape((-1,1))\n",
    "    pi_m_arr.append(pi_m)\n",
    "\n"
   ]
  },
  {
   "cell_type": "code",
   "execution_count": 9,
   "metadata": {},
   "outputs": [
    {
     "ename": "NameError",
     "evalue": "name 'pi_m_arr' is not defined",
     "output_type": "error",
     "traceback": [
      "\u001b[0;31m---------------------------------------------------------------------------\u001b[0m",
      "\u001b[0;31mNameError\u001b[0m                                 Traceback (most recent call last)",
      "Cell \u001b[0;32mIn[9], line 1\u001b[0m\n\u001b[0;32m----> 1\u001b[0m \u001b[43mpi_m_arr\u001b[49m\n",
      "\u001b[0;31mNameError\u001b[0m: name 'pi_m_arr' is not defined"
     ]
    }
   ],
   "source": [
    "pi_m_arr"
   ]
  },
  {
   "cell_type": "markdown",
   "metadata": {},
   "source": [
    "# Predict images, train with other images"
   ]
  },
  {
   "cell_type": "code",
   "execution_count": 12,
   "metadata": {},
   "outputs": [],
   "source": [
    "for i in range(len(pi_m_arr)):\n",
    "  pi_m_arr[i]=pi_m_arr[i][:,0]"
   ]
  },
  {
   "cell_type": "code",
   "execution_count": 13,
   "metadata": {},
   "outputs": [],
   "source": [
    "x_tr, x_tst, y_tr, y_tst = train_test_split(bf_arr, pi_m_arr, test_size=0.3, random_state=23)\n"
   ]
  },
  {
   "cell_type": "code",
   "execution_count": 14,
   "metadata": {},
   "outputs": [],
   "source": [
    "x_tr = np.concatenate((x_tr[:]))\n",
    "y_tr = np.concatenate((y_tr[:]))\n",
    "x_tst = np.concatenate((x_tst[:]))\n",
    "y_tst = np.concatenate((y_tst[:]))"
   ]
  },
  {
   "cell_type": "code",
   "execution_count": 15,
   "metadata": {},
   "outputs": [
    {
     "name": "stdout",
     "output_type": "stream",
     "text": [
      "(8060928, 1)\n",
      "(8060928,)\n",
      "(3538944, 1)\n",
      "(3538944,)\n"
     ]
    }
   ],
   "source": [
    "\n",
    "print(x_tr.shape)\n",
    "print(y_tr.shape)\n",
    "print(x_tst.shape)\n",
    "print(y_tst.shape)\n"
   ]
  },
  {
   "cell_type": "code",
   "execution_count": 16,
   "metadata": {},
   "outputs": [
    {
     "name": "stdout",
     "output_type": "stream",
     "text": [
      "(0.9880414287152526, 0.9560148451063368, 0.8622340888643817, 0.9720537681054396)\n"
     ]
    }
   ],
   "source": [
    "lr = LogisticRegression(max_iter=1000)\n",
    "\n",
    "lr.fit(x_tr, y_tr)\n",
    "\n",
    "y_pred = lr.predict_proba(x_tst)[::,1]\n",
    "\n",
    "print(quality_metrics(y_tst, y_pred))"
   ]
  },
  {
   "cell_type": "code",
   "execution_count": 18,
   "metadata": {},
   "outputs": [],
   "source": [
    "from sklearn import svm\n",
    "\n",
    "md = svm.SVC()\n",
    "\n",
    "md.fit(x_tr, y_tr)\n",
    "\n",
    "y_pred = md.predict_proba(x_tst)[::,1]\n",
    "\n",
    "print(quality_metrics(y_tst, y_pred))"
   ]
  },
  {
   "cell_type": "markdown",
   "metadata": {},
   "source": [
    "# Predict pixels from image"
   ]
  },
  {
   "cell_type": "code",
   "execution_count": 4,
   "metadata": {},
   "outputs": [],
   "source": [
    "bf = cv2.imread(\"/home/maiki/Downloads/bf.JPG\", cv2.IMREAD_GRAYSCALE)\n",
    "pi_m = cv2.imread(\"/home/maiki/Downloads/pi_m.JPG\", cv2.IMREAD_GRAYSCALE)\n",
    "\n",
    "\n",
    "bf_neg = 255-bf\n",
    "\n",
    "trainingData = np.float32(bf_neg.reshape((-1,1)))\n",
    "labels = np.round(pi_m/255).reshape((-1,1))\n",
    "trainingData = trainingData/max(trainingData)\n",
    "\n",
    "x_tr, x_tst, y_tr, y_tst = train_test_split(trainingData, labels, test_size=0.3, random_state=23)\n"
   ]
  },
  {
   "cell_type": "code",
   "execution_count": 5,
   "metadata": {},
   "outputs": [
    {
     "name": "stdout",
     "output_type": "stream",
     "text": [
      "(2936012, 1)\n",
      "(2936012,)\n",
      "(1258292, 1)\n",
      "(1258292,)\n"
     ]
    }
   ],
   "source": [
    "y_tr = y_tr[:,0]\n",
    "y_tst = y_tst[:,0]\n",
    "\n",
    "print(x_tr.shape)\n",
    "print(y_tr.shape)\n",
    "print(x_tst.shape)\n",
    "print(y_tst.shape)\n"
   ]
  },
  {
   "cell_type": "code",
   "execution_count": 7,
   "metadata": {},
   "outputs": [
    {
     "name": "stdout",
     "output_type": "stream",
     "text": [
      "(0.9954066815157586, 0.9876721778410734, 0.9202734307979881, 0.9941762936897793)\n"
     ]
    }
   ],
   "source": [
    "lr = LogisticRegression(max_iter=1000)\n",
    "\n",
    "lr.fit(x_tr, y_tr)\n",
    "\n",
    "y_pred = lr.predict_proba(x_tst)[::,1]\n",
    "\n",
    "print(quality_metrics(y_tst, y_pred))\n"
   ]
  },
  {
   "cell_type": "code",
   "execution_count": 8,
   "metadata": {},
   "outputs": [
    {
     "name": "stdout",
     "output_type": "stream",
     "text": [
      "(0.9954407627384795, 0.9878517863898046, 0.9069450339079473, 0.9956594521724961)\n"
     ]
    }
   ],
   "source": [
    "dt = DecisionTreeClassifier()\n",
    "\n",
    "dt.fit(x_tr, y_tr)\n",
    "\n",
    "y_pred = dt.predict_proba(x_tst)[::,1]\n",
    "\n",
    "print(quality_metrics(y_tst, y_pred))"
   ]
  }
 ],
 "metadata": {
  "kernelspec": {
   "display_name": "base",
   "language": "python",
   "name": "python3"
  },
  "language_info": {
   "codemirror_mode": {
    "name": "ipython",
    "version": 3
   },
   "file_extension": ".py",
   "mimetype": "text/x-python",
   "name": "python",
   "nbconvert_exporter": "python",
   "pygments_lexer": "ipython3",
   "version": "3.10.10"
  }
 },
 "nbformat": 4,
 "nbformat_minor": 2
}
